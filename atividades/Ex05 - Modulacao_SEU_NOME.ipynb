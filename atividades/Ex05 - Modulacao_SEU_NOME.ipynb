{
 "cells": [
  {
   "cell_type": "markdown",
   "metadata": {},
   "source": [
    "# Ex05 - `[escreva seu nome aqui]` - `[escreva seu RA aqui]`\n",
    "\n",
    "Modulação e Multiplexação.\n",
    "\n",
    "**Instruções:**\n",
    "- Use a versão Python 3.x\n",
    "- Não apague os comentários existentes, mas você pode adicionar outros comentários.\n",
    "- Não inclua mais células do que o especificado\n",
    "\n",
    "**Objetivos**\n",
    "- Implementar modulação e demodulação de sinais\n",
    "- Implementar multiplexação e demultiplexação por divisão na frequência (FDM)"
   ]
  },
  {
   "cell_type": "markdown",
   "metadata": {},
   "source": [
    "# Primeiros passos\n",
    "\n",
    "Neste trabalho você tem um desafio: projetar um sistema para retransmitir um sinal recebido, usando um banda de frequências diferente da recebida. Veja a figura abaixo.\n",
    "\n",
    "![Estacao de retransmissão](Ex05_estacao.png)\n",
    "\n",
    "O sinal recebido, $x(t)$, contém dois sinais modulados: $x_1(t)$ e $x_2(t)$ -- além de ruído de fundo. Neste trabalho você deve projetar um sistema que faça a:\n",
    "1. Demodulação dos sinais $x_1(t)$ e $x_2(t)$, separadamente (as frequências das portadoras serão informadas)\n",
    "1. Transmição dos sinais em $y(t)$ ocupando uma banda de frequências específica (que será informada também)\n",
    "\n",
    "Os sinais a serem retransmitidos contém informações que não podem ser perdidas. Você decidirá a melhor forma de fazer a transmissão do sinal com a banda que tem disponível. Não é permitido usar outras faixas de frequências além da disponibilizada para transmissão de $y(t)$. Ao transmitir o sinal, *não transmita ruído*. Isso significa que pode ser útil projetar *filtros seletivos* para eliminar ruído.\n",
    "\n",
    "<mark>**Fazer:** para ver as frequências de modulação de $x_1(t)$ e $x_2(t)$ e também as características necessárias do sinal de saída $y(t)$, insira o seu RA na variável `RA` abaixo e veja a mensagem de saída.</mark>\n",
    "\n",
    "\n",
    "*Obs.: não inclua os zeros à esquerda do RA não!*"
   ]
  },
  {
   "cell_type": "code",
   "execution_count": null,
   "metadata": {
    "run_control": {
     "marked": true
    },
    "scrolled": true
   },
   "outputs": [],
   "source": [
    "import numpy as np, scipy as sp, matplotlib.pyplot as plt, time\n",
    "from scipy import signal\n",
    "# %matplotlib widget\n",
    "%matplotlib inline\n",
    "\n",
    "### SEU CÓDIGO COMEÇA AQUI ###\n",
    "RA = 1\n",
    "### SEU CÓDIGO TERMINA AQUI ###\n",
    "np.random.seed(RA); fc1 = np.random.uniform(20,100); fc2 = fc1+np.random.uniform(36,40);\n",
    "fc3 = np.random.uniform(150,200);\n",
    "print(\"ATENÇÃO!\")\n",
    "print(\"Os sinais originais x1(t) e x2(t) possuem, cada um, largura de banda de 7Hz e foram\")\n",
    "print(\"modulados por AM/DSB nas frequências de portadora, respectivamente, %i Hz e %i Hz.\\n\"%(fc1, fc2))\n",
    "print(\"O sinal de saída y(t) deve ter as seguintes características (nessa ordem de prioridade):\")\n",
    "print(\"   1. Conter os dois sinais x1(t) e x2(t) de modo que possam ser decodificados\")\n",
    "print(\"      individualmente sem perda de informação;\")\n",
    "print(\"   2. Ser modulado com frequência de portadora de %i Hz;\"%(fc3))\n",
    "print(\"   3. Possuir o mínimo de ruído possível;\")\n",
    "print(\"   4. Ocupar a menor banda possível;\")\n",
    "print(\"   5. Implementar o sistema mais simples possível.\")"
   ]
  },
  {
   "cell_type": "markdown",
   "metadata": {},
   "source": [
    "# Sinal recebido (a ser decodificado e retransmitido)\n",
    "\n",
    "<mark>**Fazer:** execute o código abaixo para ver o sinal recebido $x(t)$ no domínio do tempo.</mark>\n",
    "\n",
    "Note que há as seguintes variáveis interessantes no código abaixo:\n",
    "- `N`: número de pontos do vetor `x`\n",
    "- `fs`: frequência de amostragem (Hz)\n",
    "- `T`: período de amostragem (s)\n",
    "- `t`: vetor tempo\n",
    "- `x1i`: variável que representa o sinal original $x_1(t)$ original (ideal)\n",
    "- `x2i`: variável que representa o sinal original $x_2(t)$ original (ideal)\n",
    "- `x`: sinal $x(t)$ recebido pela estação de retransmissão\n",
    "\n",
    "Essas variáveis servirão para você conferir se sua \"decodificação\" funcionou adequadamente. Não altere o conteúdo dessas variáveis!"
   ]
  },
  {
   "cell_type": "code",
   "execution_count": null,
   "metadata": {
    "code_folding": [],
    "run_control": {
     "marked": true
    }
   },
   "outputs": [],
   "source": [
    "# Sinais\n",
    "N = 50000\n",
    "fs = 1000\n",
    "T = 1/fs\n",
    "t = np.arange(0, N*T, T)\n",
    "np.random.seed(RA//2)\n",
    "nsen = 30\n",
    "nr = 100\n",
    "r1 = .4*np.sum(np.random.rand(nr,1)*np.sin(np.random.uniform(0, fc1-8, (nr,1))*2*np.pi*t+np.random.uniform(0, 2*np.pi, (nr,1))), axis=0)\n",
    "r2 = .4*np.sum(np.random.rand(nr,1)*np.sin(np.random.uniform(fc1+8, fc2-8, (nr,1))*2*np.pi*t+np.random.uniform(0, 2*np.pi, (nr,1))), axis=0)\n",
    "r3 = .4*np.sum(np.random.rand(nr,1)*np.sin(np.random.uniform(fc2+8, fc2+40, (nr,1))*2*np.pi*t+np.random.uniform(0, 2*np.pi, (nr,1))), axis=0)\n",
    "x1i = 2*np.sum(np.random.rand(nsen,1)*np.sin(np.random.uniform(0, 7, (nsen,1))*2*np.pi*t+np.random.uniform(0, 2*np.pi, (nsen,1))), axis=0)\n",
    "x2i = 2*np.sum(np.random.rand(nsen,1)*np.sin(np.random.uniform(0, 7, (nsen,1))*2*np.pi*t+np.random.uniform(0, 2*np.pi, (nsen,1))), axis=0)\n",
    "p1i = np.cos(fc1*2*np.pi*t)\n",
    "p2i = np.cos(fc2*2*np.pi*t)\n",
    "\n",
    "x = (p1i*x1i + p2i*x2i + r1 + r2 + r3)\n",
    "\n",
    "plt.figure(figsize=(20,1))\n",
    "plt.plot(t, x); plt.ylabel(\"$x(t)$\"); plt.xlim((0,max(t)+T));\n",
    "plt.xlabel(\"tempo [s]\")\n",
    "plt.show();"
   ]
  },
  {
   "cell_type": "markdown",
   "metadata": {},
   "source": [
    "# FFT do sinal\n",
    "\n",
    "O primeiro passo de um projeto de processamento de sinais é entender as características gerais do sinal envolvido. Para isso, a FFT é uma ferramenta bastante útil. Você viu anteriormente as frequências em que $x_1(t)$ e $x_2(t)$ foram modulados para compor $x(t)$. Assim, verifique essas informações fazendo a FFT de $x(t)$.\n",
    "\n",
    "<mark>**Fazer:** FFT do sinal recebido.</mark>\n",
    "1. Faça a FFT do sinal `x`\n",
    "1. Faça um gráfico do módulo da FFT (o gráfico da fase é facultativo)\n",
    "1. O gráfico **DEVEM** ter tamanho `figsize=(10,1.5)`\n",
    "1. Mostre o eixo de frequências sempre em Hz"
   ]
  },
  {
   "cell_type": "code",
   "execution_count": null,
   "metadata": {},
   "outputs": [],
   "source": [
    "### SEU CÓDIGO COMEÇA AQUI ###\n",
    "None\n",
    "### SEU CÓDIGO TERMINA AQUI ###"
   ]
  },
  {
   "cell_type": "markdown",
   "metadata": {},
   "source": [
    "**Saída esperada**:\n",
    "1. Gráfico do módulo da FFT do sinal `x`\n",
    "1. (opcional) Gráfico da fase de `x`\n",
    "\n",
    "___\n",
    "# Processamento dos sinais analógicos\n",
    "\n",
    "Use as células abaixo para projetar um sistema que faça a decodificação e retransmissão do sinal usando as frequência de portadora disponível (especificada ateriormente) para retransmitir o sinal $y(t)$ que contém, simultaneamente, $x_1(t)$ e $x_2(t)$. Você pode usar qualquer uma das técnicas abordadas na disciplina (filtragem, demodulação, modulação, multiplexação, etc.), mas atenção para as regras abaixo.\n",
    "\n",
    "**REGRAS DE PROJETO**:\n",
    "1. Só podem ser utilizados sistemas analógicos implementáveis na prática. Isso exclui, por exemplo, filtros ideais ou sistemas não causais.\n",
    "1. Ao projetar filtros, é obrigatório mostrar o diagrama de Bode (amplitude em dB e escala logaritmica no eixo de frequências, em Hz) do filtro, com tamanho `figsize=(10,4)`, e, no mesmo gráfico, o sombreamente referente às especificações do filtro. Você mesmo deve determinar as especificações de modo a atender o problema e também escolher o tipo de filtro a ser implementado.\n",
    "1. Ao passar um sinal por um sistema (filtro, modulador, multiplexador, etc.), é obrigatório mostrar, num mesmo gráfico com tamanho `figsize=(10,1.5)`, o módulo da FFT do sinal antes e após o processo de filtragem. Mostrar a fase é facultativo. Sugere-se não representar o sinal em dB.\n",
    "1. Nesta parte do trabalho você pode usar **até cinco células de código para cada uma das subseções abaixo**. Não é necessário mais que isso, mas você pode usar menos (apague as vazias nesse caso).\n",
    "1. Todos os gráficos devem ter rótulos nos eixos e escala de ampliação adequada!\n",
    "1. Organize seu código com comentários e use também os espaços destinados à escrita, identificados com `[escreva aqui...]`.\n",
    "\n",
    "## Etapa de decodificação de $x(t)$ em $x_1(t)$ e $x_2(t)$\n",
    "\n",
    "Extraia os sinais $x_1(t)$ e $x_2(t)$ a partir de $x(t)$ e armazene os sinais recuperados nas variáveis ´x1r´ e ´x2r´, respectivamente.\n",
    "\n",
    "`[escreva aqui o que foi feito na etapa de decodificação]`"
   ]
  },
  {
   "cell_type": "code",
   "execution_count": null,
   "metadata": {},
   "outputs": [],
   "source": [
    "### SEU CÓDIGO COMEÇA AQUI ###\n",
    "None\n",
    "### SEU CÓDIGO TERMINA AQUI ###"
   ]
  },
  {
   "cell_type": "code",
   "execution_count": null,
   "metadata": {},
   "outputs": [],
   "source": [
    "### SEU CÓDIGO COMEÇA AQUI ###\n",
    "None\n",
    "### SEU CÓDIGO TERMINA AQUI ###"
   ]
  },
  {
   "cell_type": "code",
   "execution_count": null,
   "metadata": {},
   "outputs": [],
   "source": [
    "### SEU CÓDIGO COMEÇA AQUI ###\n",
    "None\n",
    "### SEU CÓDIGO TERMINA AQUI ###"
   ]
  },
  {
   "cell_type": "code",
   "execution_count": null,
   "metadata": {},
   "outputs": [],
   "source": [
    "### SEU CÓDIGO COMEÇA AQUI ###\n",
    "None\n",
    "### SEU CÓDIGO TERMINA AQUI ###"
   ]
  },
  {
   "cell_type": "code",
   "execution_count": null,
   "metadata": {},
   "outputs": [],
   "source": [
    "### SEU CÓDIGO COMEÇA AQUI ###\n",
    "None\n",
    "### SEU CÓDIGO TERMINA AQUI ###"
   ]
  },
  {
   "cell_type": "markdown",
   "metadata": {},
   "source": [
    "## Comparação com o original\n",
    "\n",
    "Nessa etapa você deve comparar os dois sinais \"ideais\" (sem ruído), denotados por `x1i` e `x2i`, com os sinais recuperados `x1r` e `x2r`. Para cada par de sinal, faça o gráfico comparativo no domínio da frequência e no domínio do tempo. Ajuste adequadamente as escalas dos gráficos, rótulos e etc.\n",
    "\n",
    "`[escreva aqui o que foi feito na etapa de modulação]`"
   ]
  },
  {
   "cell_type": "code",
   "execution_count": null,
   "metadata": {},
   "outputs": [],
   "source": [
    "### SEU CÓDIGO COMEÇA AQUI ###\n",
    "None\n",
    "### SEU CÓDIGO TERMINA AQUI ###"
   ]
  },
  {
   "cell_type": "code",
   "execution_count": null,
   "metadata": {},
   "outputs": [],
   "source": [
    "### SEU CÓDIGO COMEÇA AQUI ###\n",
    "None\n",
    "### SEU CÓDIGO TERMINA AQUI ###"
   ]
  },
  {
   "cell_type": "markdown",
   "metadata": {},
   "source": [
    "**Saída esperada**:\n",
    "1. Gráfico comparativo de `x1i` (original) e `x1r` (recuperado) no domínio do tempo.\n",
    "1. Gráfico comparativo de `x1i` (original) e `x1r` (recuperado) no domínio da frequência.\n",
    "1. Gráfico comparativo de `x2i` (original) e `x2r` (recuperado) no domínio do tempo.\n",
    "1. Gráfico comparativo de `x2i` (original) e `x2r` (recuperado) no domínio da frequência.\n",
    "____\n",
    "## Etapa de Modulação/Multiplexação\n",
    "\n",
    "Nessa etapa você deve produzir um sinal modulado na variável `y` **que possua as características especificadas anteriormente**. É obrigatório mostrar a FFT do sinal modulado de forma a ficar claro a banda utilizada pelo sinal. No gráfico da FFT deve estar clara a banda ocupada pelo sinal `y`. Mostre o eixo de frequências sempre em Hz.\n",
    "\n",
    "`[escreva aqui o que foi feito na etapa de modulação]`"
   ]
  },
  {
   "cell_type": "code",
   "execution_count": null,
   "metadata": {},
   "outputs": [],
   "source": [
    "### SEU CÓDIGO COMEÇA AQUI ###\n",
    "None\n",
    "### SEU CÓDIGO TERMINA AQUI ###"
   ]
  },
  {
   "cell_type": "code",
   "execution_count": null,
   "metadata": {},
   "outputs": [],
   "source": [
    "### SEU CÓDIGO COMEÇA AQUI ###\n",
    "None\n",
    "### SEU CÓDIGO TERMINA AQUI ###"
   ]
  },
  {
   "cell_type": "code",
   "execution_count": null,
   "metadata": {},
   "outputs": [],
   "source": [
    "### SEU CÓDIGO COMEÇA AQUI ###\n",
    "None\n",
    "### SEU CÓDIGO TERMINA AQUI ###"
   ]
  },
  {
   "cell_type": "code",
   "execution_count": null,
   "metadata": {},
   "outputs": [],
   "source": [
    "### SEU CÓDIGO COMEÇA AQUI ###\n",
    "None\n",
    "### SEU CÓDIGO TERMINA AQUI ###"
   ]
  },
  {
   "cell_type": "code",
   "execution_count": null,
   "metadata": {},
   "outputs": [],
   "source": [
    "### SEU CÓDIGO COMEÇA AQUI ###\n",
    "None\n",
    "### SEU CÓDIGO TERMINA AQUI ###"
   ]
  },
  {
   "cell_type": "markdown",
   "metadata": {},
   "source": [
    "___\n",
    "\n",
    "# Concluões\n",
    "\n",
    "Escreva as conclusões deste trabalho e o que de mais interessante você observou. Escreva conclusões de ordem técnica, sobre os prós e contras de cada ferramenta usada e principais características observadas."
   ]
  },
  {
   "cell_type": "markdown",
   "metadata": {},
   "source": [
    "`[escreva aqui suas conclusões!]`"
   ]
  },
  {
   "cell_type": "markdown",
   "metadata": {},
   "source": [
    "Parabéns por ter completado o trabalho :c)"
   ]
  }
 ],
 "metadata": {
  "kernelspec": {
   "display_name": "Python 3",
   "language": "python",
   "name": "python3"
  },
  "language_info": {
   "codemirror_mode": {
    "name": "ipython",
    "version": 3
   },
   "file_extension": ".py",
   "mimetype": "text/x-python",
   "name": "python",
   "nbconvert_exporter": "python",
   "pygments_lexer": "ipython3",
   "version": "3.6.11"
  },
  "toc": {
   "base_numbering": 1,
   "nav_menu": {
    "height": "228px",
    "width": "370px"
   },
   "number_sections": true,
   "sideBar": true,
   "skip_h1_title": false,
   "title_cell": "Table of Contents",
   "title_sidebar": "Contents",
   "toc_cell": false,
   "toc_position": {},
   "toc_section_display": true,
   "toc_window_display": false
  },
  "varInspector": {
   "cols": {
    "lenName": 16,
    "lenType": 16,
    "lenVar": 40
   },
   "kernels_config": {
    "python": {
     "delete_cmd_postfix": "",
     "delete_cmd_prefix": "del ",
     "library": "var_list.py",
     "varRefreshCmd": "print(var_dic_list())"
    },
    "r": {
     "delete_cmd_postfix": ") ",
     "delete_cmd_prefix": "rm(",
     "library": "var_list.r",
     "varRefreshCmd": "cat(var_dic_list()) "
    }
   },
   "types_to_exclude": [
    "module",
    "function",
    "builtin_function_or_method",
    "instance",
    "_Feature"
   ],
   "window_display": false
  }
 },
 "nbformat": 4,
 "nbformat_minor": 2
}
